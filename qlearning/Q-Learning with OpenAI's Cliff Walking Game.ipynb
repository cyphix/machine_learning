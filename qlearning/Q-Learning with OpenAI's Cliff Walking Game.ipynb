{
  "nbformat": 4,
  "nbformat_minor": 0,
  "metadata": {
    "kernelspec": {
      "display_name": "Python 3",
      "language": "python",
      "name": "python3"
    },
    "language_info": {
      "codemirror_mode": {
        "name": "ipython",
        "version": 3
      },
      "file_extension": ".py",
      "mimetype": "text/x-python",
      "name": "python",
      "nbconvert_exporter": "python",
      "pygments_lexer": "ipython3",
      "version": "3.7.9"
    },
    "colab": {
      "name": "Q-Learning with OpenAI's Cliff Walking Game.ipynb",
      "provenance": [],
      "collapsed_sections": []
    },
    "accelerator": "TPU"
  },
  "cells": [
    {
      "cell_type": "markdown",
      "metadata": {
        "id": "ymvndjbzRAmO"
      },
      "source": [
        "# Standard Q-Learning"
      ]
    },
    {
      "cell_type": "markdown",
      "metadata": {
        "id": "pXTzkrFyRAmP"
      },
      "source": [
        "## Q-Learning Steps\n",
        "1. First initialize the QTable with zeros.\n",
        "2. Begin the training loop.\n",
        "3. Select an action using the QTable.\n",
        "4. Return the reward and new state\n",
        "5. Select the highest QValue action for the new state.\n",
        "6. Update the QValue of the current state and action.\n",
        "7. Repeat the loop until stopped.\n",
        "\n",
        "The QValue update formula is as follows:<br>\n",
        "$ Q_{t}(s, a) = Q_{t-1}(s, a) + \\alpha * \\left(R(s, a) + \\gamma * \\underset{a'}{max}Q(s', a') - Q_{t-1}(s, a)\\right) $ <br>\n",
        "where,\n",
        "* $ Q_{t}(s, a) $ is the new QValue at the given state and action\n",
        "* $ Q_{t-1}(s, a) $ is the previous QValue at the given state and action\n",
        "* $ \\alpha $ is the learning rate\n",
        "* $ R(s, a) $ is the reward function at the given state and action\n",
        "* $ \\gamma $ is the discount factor(for future steps)\n",
        "* $ \\underset{a'}{max}Q(s', a') $ is the highest QValue action for the potential next step\n",
        "<br><br><br>\n",
        "Note: $ (R(s, a) + \\gamma * \\underset{a'}{max}Q(s', a') - Q_{t-1}(s, a) $ is the temporal difference"
      ]
    },
    {
      "cell_type": "code",
      "metadata": {
        "id": "M1rHp_0ZRAmQ"
      },
      "source": [
        "import numpy as np\n",
        "import matplotlib\n",
        "import matplotlib.style\n",
        "import matplotlib.pyplot as plt\n",
        "import random\n",
        "import progressbar\n",
        "import time\n",
        "\n",
        "import gym\n",
        "\n",
        "from IPython.display import clear_output"
      ],
      "execution_count": null,
      "outputs": []
    },
    {
      "cell_type": "code",
      "metadata": {
        "id": "_SuyJFt-RAmV",
        "outputId": "753afdb1-5c98-4aa5-a55f-d7ea6f0e36dc",
        "colab": {
          "base_uri": "https://localhost:8080/"
        }
      },
      "source": [
        "matplotlib.style.use('ggplot')\n",
        "\n",
        "environment = gym.make(\"CliffWalking-v0\")\n",
        "environment.render() # show what the \"world\" looks like\n",
        "\n",
        "print(f\"Number of states: {environment.observation_space.n}\")\n",
        "print(f\"Number of actions: {environment.action_space.n}\")"
      ],
      "execution_count": null,
      "outputs": [
        {
          "output_type": "stream",
          "text": [
            "o  o  o  o  o  o  o  o  o  o  o  o\n",
            "o  o  o  o  o  o  o  o  o  o  o  o\n",
            "o  o  o  o  o  o  o  o  o  o  o  o\n",
            "x  C  C  C  C  C  C  C  C  C  C  T\n",
            "\n",
            "Number of states: 48\n",
            "Number of actions: 4\n"
          ],
          "name": "stdout"
        }
      ]
    },
    {
      "cell_type": "code",
      "metadata": {
        "id": "fRNz20BgRAmb"
      },
      "source": [
        "alpha = 0.6 # learning rate\n",
        "epsilon = 0.1 # epsilon greedy random action rate\n",
        "gamma = 0.25 # discount factor\n",
        "q_table = np.zeros([environment.observation_space.n, environment.action_space.n])"
      ],
      "execution_count": null,
      "outputs": []
    },
    {
      "cell_type": "code",
      "metadata": {
        "id": "UK-CCI0QRAme",
        "outputId": "c1bcfd8e-5a94-4d44-d9ea-3dee68bf26d1",
        "colab": {
          "base_uri": "https://localhost:8080/",
          "height": 1000
        }
      },
      "source": [
        "num_episodes = 10000\n",
        "\n",
        "times_fell = 0\n",
        "fell_values = []\n",
        "wall_pushes = 0\n",
        "num_steps = 0\n",
        "num_steps_values = []\n",
        "\n",
        "episode_lengths = np.zeros(num_episodes)\n",
        "episode_rewards = np.zeros(num_episodes)\n",
        "\n",
        "fig, axes = plt.subplots(2, 1, figsize=(12, 4))\n",
        "\n",
        "bar = progressbar.ProgressBar(maxval=num_episodes, widgets=['Completion: ', progressbar.Bar('=', '[', ']'), ' ', progressbar.Percentage(), '\\t', progressbar.ETA()])\n",
        "bar.start()\n",
        "\n",
        "for episode in range(num_episodes):\n",
        "    # reset the environment for a new episode\n",
        "    state = environment.reset()\n",
        "    \n",
        "    reward = 0\n",
        "    terminated = False\n",
        "    episode_len = -1\n",
        "    total_reward = 0\n",
        "    \n",
        "    while not terminated:\n",
        "        episode_len += 1\n",
        "        \n",
        "        if random.uniform(0, 1) < epsilon:\n",
        "            action = environment.action_space.sample()\n",
        "        else:\n",
        "            action = np.argmax(q_table[state])\n",
        "            \n",
        "        next_state, reward, terminated, info = environment.step(action)\n",
        "        \n",
        "        # if the state is the same change reward\n",
        "        if state == next_state:\n",
        "            reward = -1000\n",
        "            wall_pushes += 1\n",
        "        \n",
        "        \n",
        "        \n",
        "        if reward == -100:\n",
        "            times_fell += 1\n",
        "            \n",
        "        # record plot data\n",
        "        total_reward += reward\n",
        "            \n",
        "            \n",
        "        \n",
        "        q_value = q_table[state, action]\n",
        "        max_q_value = np.max(q_table[next_state])\n",
        "        new_q_value = q_value + (alpha * ((reward + gamma * max_q_value) - q_value))\n",
        "        \n",
        "        q_table[state, action] = new_q_value\n",
        "        state = next_state\n",
        "        \n",
        "    # set plot data\n",
        "    episode_lengths[episode] = episode_len\n",
        "    episode_rewards[episode] = total_reward\n",
        "        \n",
        "    if (episode + 1) % 100 == 0:\n",
        "        #clear_output(wait=True)\n",
        "        #print(f\"Episode: {episode + 1}\")\n",
        "        #environment.render()\n",
        "        bar.update(episode)\n",
        "        \n",
        "bar.finish()\n",
        "        \n",
        "print(\n",
        "    \"**********************************\\n\"\n",
        "    \"Training is done!\\n\"\n",
        "    \"**********************************\\n\"\n",
        ")\n",
        "\n",
        "print(f\"Times fell: {times_fell}\\nWall Push: {wall_pushes}\")\n",
        "print(\"QTable:\")\n",
        "print(q_table)\n",
        "\n",
        "x = np.arange(1,num_episodes)\n",
        "axes[0].plot(x, episode_lengths[x-1], 'r')\n",
        "axes[0].grid(True)\n",
        "axes[0].set_title(\"Episode Length\")\n",
        "axes[1].plot(x, episode_rewards[x-1], 'r')\n",
        "axes[1].grid(True)\n",
        "axes[1].set_title(\"Episode Reward Total\")\n",
        "fig.tight_layout()\n",
        "plt.show()"
      ],
      "execution_count": null,
      "outputs": [
        {
          "output_type": "stream",
          "text": [
            "Completion: [=============================================] 100%\tTime:  0:00:05\n"
          ],
          "name": "stderr"
        },
        {
          "output_type": "stream",
          "text": [
            "**********************************\n",
            "Training is done!\n",
            "**********************************\n",
            "\n",
            "Times fell: 2714\n",
            "Wall Push: 1853\n",
            "QTable:\n",
            "[[-6.00000000e+02 -1.33333333e+00 -1.33333333e+00 -8.40200000e+02]\n",
            " [-9.96232878e+02 -1.33333331e+00 -1.33333331e+00 -1.33333332e+00]\n",
            " [-9.74703713e+02 -1.33333325e+00 -1.33333325e+00 -1.33333327e+00]\n",
            " [-8.40199980e+02 -1.33333302e+00 -1.33333302e+00 -1.33333329e+00]\n",
            " [-9.90077758e+02 -1.33333206e+00 -1.33333206e+00 -1.33333309e+00]\n",
            " [-9.90060027e+02 -1.33332825e+00 -1.33332825e+00 -1.33333212e+00]\n",
            " [-1.00007093e+03 -1.33331299e+00 -1.33331299e+00 -1.33333027e+00]\n",
            " [-1.00022829e+03 -1.33325195e+00 -1.33325195e+00 -1.33332706e+00]\n",
            " [-9.96233740e+02 -1.33300781e+00 -1.33300781e+00 -1.33329435e+00]\n",
            " [-9.99677100e+02 -1.33203125e+00 -1.33203125e+00 -1.33251947e+00]\n",
            " [-1.00006967e+03 -1.32812500e+00 -1.32812500e+00 -1.33273232e+00]\n",
            " [-9.74707125e+02 -9.98688381e+02 -1.31250000e+00 -1.33201436e+00]\n",
            " [-1.33333333e+00 -1.33333331e+00 -1.33333331e+00 -1.00031654e+03]\n",
            " [-1.33333333e+00 -1.33333325e+00 -1.33333325e+00 -1.33333333e+00]\n",
            " [-1.33333331e+00 -1.33333302e+00 -1.33333302e+00 -1.33333331e+00]\n",
            " [-1.33333325e+00 -1.33333206e+00 -1.33333206e+00 -1.33333325e+00]\n",
            " [-1.33333302e+00 -1.33332825e+00 -1.33332825e+00 -1.33333302e+00]\n",
            " [-1.33333206e+00 -1.33331299e+00 -1.33331299e+00 -1.33333206e+00]\n",
            " [-1.33332825e+00 -1.33325195e+00 -1.33325195e+00 -1.33332825e+00]\n",
            " [-1.33331299e+00 -1.33300781e+00 -1.33300781e+00 -1.33331299e+00]\n",
            " [-1.33325195e+00 -1.33203125e+00 -1.33203125e+00 -1.33325195e+00]\n",
            " [-1.33300781e+00 -1.32812500e+00 -1.32812500e+00 -1.33300781e+00]\n",
            " [-1.33203125e+00 -1.31250000e+00 -1.31250000e+00 -1.33203125e+00]\n",
            " [-1.32812500e+00 -1.00031250e+03 -1.25000000e+00 -1.32812500e+00]\n",
            " [-1.33333333e+00 -1.33333325e+00 -1.33333333e+00 -1.00033333e+03]\n",
            " [-1.33333331e+00 -1.33333302e+00 -1.00333333e+02 -1.33333331e+00]\n",
            " [-1.33333325e+00 -1.33333206e+00 -1.00333333e+02 -1.33333325e+00]\n",
            " [-1.33333302e+00 -1.33332825e+00 -1.00333333e+02 -1.33333302e+00]\n",
            " [-1.33333206e+00 -1.33331299e+00 -1.00333333e+02 -1.33333206e+00]\n",
            " [-1.33332825e+00 -1.33325195e+00 -1.00333333e+02 -1.33332825e+00]\n",
            " [-1.33331299e+00 -1.33300781e+00 -1.00333333e+02 -1.33331299e+00]\n",
            " [-1.33325195e+00 -1.33203125e+00 -1.00333333e+02 -1.33325195e+00]\n",
            " [-1.33300781e+00 -1.32812500e+00 -1.00333333e+02 -1.33300781e+00]\n",
            " [-1.33203125e+00 -1.31250000e+00 -1.00333333e+02 -1.33203125e+00]\n",
            " [-1.32812500e+00 -1.25000000e+00 -1.00333333e+02 -1.32812500e+00]\n",
            " [-1.31250000e+00 -1.00025000e+03 -1.00000000e+00 -1.31250000e+00]\n",
            " [-1.33333331e+00 -1.00033333e+03 -1.00033333e+03 -1.00033333e+03]\n",
            " [ 0.00000000e+00  0.00000000e+00  0.00000000e+00  0.00000000e+00]\n",
            " [ 0.00000000e+00  0.00000000e+00  0.00000000e+00  0.00000000e+00]\n",
            " [ 0.00000000e+00  0.00000000e+00  0.00000000e+00  0.00000000e+00]\n",
            " [ 0.00000000e+00  0.00000000e+00  0.00000000e+00  0.00000000e+00]\n",
            " [ 0.00000000e+00  0.00000000e+00  0.00000000e+00  0.00000000e+00]\n",
            " [ 0.00000000e+00  0.00000000e+00  0.00000000e+00  0.00000000e+00]\n",
            " [ 0.00000000e+00  0.00000000e+00  0.00000000e+00  0.00000000e+00]\n",
            " [ 0.00000000e+00  0.00000000e+00  0.00000000e+00  0.00000000e+00]\n",
            " [ 0.00000000e+00  0.00000000e+00  0.00000000e+00  0.00000000e+00]\n",
            " [ 0.00000000e+00  0.00000000e+00  0.00000000e+00  0.00000000e+00]\n",
            " [ 0.00000000e+00  0.00000000e+00  0.00000000e+00  0.00000000e+00]]\n"
          ],
          "name": "stdout"
        },
        {
          "output_type": "display_data",
          "data": {
            "image/png": "[encoded data removed]",
            "text/plain": [
              "<Figure size 864x288 with 2 Axes>"
            ]
          },
          "metadata": {
            "tags": []
          }
        }
      ]
    },
    {
      "cell_type": "code",
      "metadata": {
        "id": "TujlHmwvRAmj",
        "outputId": "ba5f5fe9-01a7-45a6-d659-f0c81618315c",
        "colab": {
          "base_uri": "https://localhost:8080/",
          "height": 416
        }
      },
      "source": [
        "total_epochs = 0\n",
        "total_penalties = 0\n",
        "wall_pushes = 0\n",
        "num_of_episodes = 1000\n",
        "\n",
        "episode_lengths = np.zeros(num_of_episodes)\n",
        "episode_rewards = np.zeros(num_of_episodes)\n",
        "\n",
        "fig, axes = plt.subplots(1, 2, figsize=(12, 4))\n",
        "\n",
        "for episode in range(num_of_episodes):\n",
        "    state = environment.reset()\n",
        "    next_state = 0\n",
        "    epochs = 0\n",
        "    penalties = 0\n",
        "    reward = 0\n",
        "    \n",
        "    episode_len = -1\n",
        "    total_reward = 0\n",
        "    \n",
        "    terminated = False\n",
        "    \n",
        "    while not terminated:\n",
        "        episode_len += 1\n",
        "        \n",
        "        action = np.argmax(q_table[state])\n",
        "        next_state, reward, terminated, info = environment.step(action)\n",
        "        \n",
        "        # if the state is the same change reward\n",
        "        if state == next_state:\n",
        "            wall_pushes += 1\n",
        "\n",
        "        if reward == -100:\n",
        "            penalties += 1\n",
        "\n",
        "        epochs += 1\n",
        "        \n",
        "        state = next_state\n",
        "        \n",
        "        # record plot data\n",
        "        total_reward += reward\n",
        "\n",
        "    total_penalties += penalties\n",
        "    total_epochs += epochs\n",
        "    \n",
        "    # set plot data\n",
        "    episode_lengths[episode] = episode_len\n",
        "    episode_rewards[episode] = total_reward\n",
        "\n",
        "print(\n",
        "    \"**********************************\\n\"\n",
        "    \"Results\\n\"\n",
        "    \"**********************************\\n\"\n",
        ")\n",
        "print(f\"Epochs per episode: {total_epochs / num_of_episodes}\")\n",
        "print(f\"Penalties per episode: {total_penalties / num_of_episodes}\")\n",
        "print(f\"Wall pushes per episode: {wall_pushes / num_of_episodes}\")\n",
        "\n",
        "x = np.arange(1,num_of_episodes)\n",
        "axes[0].plot(x, episode_lengths[x-1], 'r')\n",
        "axes[0].grid(True)\n",
        "axes[0].set_title(\"Episode Length\")\n",
        "axes[1].plot(x, episode_rewards[x-1], 'r')\n",
        "axes[1].grid(True)\n",
        "axes[1].set_title(\"Episode Reward Total\")\n",
        "fig.tight_layout()\n",
        "plt.show()"
      ],
      "execution_count": null,
      "outputs": [
        {
          "output_type": "stream",
          "text": [
            "**********************************\n",
            "Results\n",
            "**********************************\n",
            "\n",
            "Epochs per episode: 13.0\n",
            "Penalties per episode: 0.0\n",
            "Wall pushes per episode: 0.0\n"
          ],
          "name": "stdout"
        },
        {
          "output_type": "display_data",
          "data": {
            "image/png": "[encoded data removed]",
            "text/plain": [
              "<Figure size 864x288 with 2 Axes>"
            ]
          },
          "metadata": {
            "tags": []
          }
        }
      ]
    },
    {
      "cell_type": "markdown",
      "metadata": {
        "id": "nRdO3OaIRAmn"
      },
      "source": [
        "Run one more time to see path walked."
      ]
    },
    {
      "cell_type": "code",
      "metadata": {
        "id": "8-im9Tj5RAmo",
        "outputId": "8f3b81f1-d45f-4d27-ff86-7b77e0f74ee3",
        "colab": {
          "base_uri": "https://localhost:8080/"
        }
      },
      "source": [
        "state_map = np.zeros(48)\n",
        "\n",
        "for _ in range(1):\n",
        "    state = environment.reset()\n",
        "    next_state = 0\n",
        "    epochs = 0\n",
        "    penalties = 0\n",
        "    reward = 0\n",
        "    \n",
        "    terminated = False\n",
        "    \n",
        "    while not terminated:\n",
        "        action = np.argmax(q_table[state])\n",
        "        next_state, reward, terminated, info = environment.step(action)\n",
        "        \n",
        "        state_map[state] = 1\n",
        "\n",
        "        if reward == -100:\n",
        "            penalties += 1\n",
        "\n",
        "        epochs += 1\n",
        "        \n",
        "        state = next_state\n",
        "\n",
        "    total_penalties += penalties\n",
        "    total_epochs += epochs\n",
        "    \n",
        "state_map = np.reshape(state_map, (4, 12))\n",
        "print(f\"States Map:\\n{state_map}\")"
      ],
      "execution_count": null,
      "outputs": [
        {
          "output_type": "stream",
          "text": [
            "States Map:\n",
            "[[0. 0. 0. 0. 0. 0. 0. 0. 0. 0. 0. 0.]\n",
            " [0. 0. 0. 0. 0. 0. 0. 0. 0. 0. 0. 0.]\n",
            " [1. 1. 1. 1. 1. 1. 1. 1. 1. 1. 1. 1.]\n",
            " [1. 0. 0. 0. 0. 0. 0. 0. 0. 0. 0. 0.]]\n"
          ],
          "name": "stdout"
        }
      ]
    },
    {
      "cell_type": "markdown",
      "metadata": {
        "id": "RwF7ACKnRAms"
      },
      "source": [
        "***\n",
        "<br><br><br><br><br>\n",
        "***"
      ]
    },
    {
      "cell_type": "markdown",
      "metadata": {
        "id": "zpGD99YlRAmt"
      },
      "source": [
        "# Deep Q-Learning"
      ]
    },
    {
      "cell_type": "code",
      "metadata": {
        "id": "WM3npQYVRAmt"
      },
      "source": [
        "import numpy as np\n",
        "import random\n",
        "from IPython.display import clear_output\n",
        "from collections import deque\n",
        "import progressbar\n",
        "import time\n",
        "\n",
        "import gym\n",
        "\n",
        "import tensorflow as tf\n",
        "from tensorflow.keras import Model, Sequential\n",
        "from tensorflow.keras.layers import Dense, Embedding, Reshape\n",
        "from tensorflow.keras.optimizers import Adam"
      ],
      "execution_count": null,
      "outputs": []
    },
    {
      "cell_type": "code",
      "metadata": {
        "id": "5m6boX6iRAmz",
        "outputId": "2a1c7a78-965c-4c85-9fc0-dfa71b7424df",
        "colab": {
          "base_uri": "https://localhost:8080/"
        }
      },
      "source": [
        "print(f\"Num GPUs Available: {len(tf.config.experimental.list_physical_devices('GPU'))}\")\n",
        "\n",
        "# To debug which device is being used by what operation\n",
        "#tf.debugging.set_log_device_placement(True)"
      ],
      "execution_count": null,
      "outputs": [
        {
          "output_type": "stream",
          "text": [
            "Num GPUs Available: 0\n"
          ],
          "name": "stdout"
        }
      ]
    },
    {
      "cell_type": "code",
      "metadata": {
        "id": "5cXwZ4RjRAm2",
        "outputId": "eb851903-9e80-48ca-82a5-c32b57b145e2",
        "colab": {
          "base_uri": "https://localhost:8080/"
        }
      },
      "source": [
        "environment = gym.make(\"CliffWalking-v0\")\n",
        "environment.render()\n",
        "\n",
        "print(f\"Number of states: {environment.observation_space.n}\")\n",
        "print(f\"Number of actions: {environment.action_space.n}\")"
      ],
      "execution_count": null,
      "outputs": [
        {
          "output_type": "stream",
          "text": [
            "o  o  o  o  o  o  o  o  o  o  o  o\n",
            "o  o  o  o  o  o  o  o  o  o  o  o\n",
            "o  o  o  o  o  o  o  o  o  o  o  o\n",
            "x  C  C  C  C  C  C  C  C  C  C  T\n",
            "\n",
            "Number of states: 48\n",
            "Number of actions: 4\n"
          ],
          "name": "stdout"
        }
      ]
    },
    {
      "cell_type": "code",
      "metadata": {
        "id": "ZG6QQEhbRAm6"
      },
      "source": [
        "class Agent:\n",
        "    def __init__(self, environment, optimizer):\n",
        "        \n",
        "        # Initialize atributes\n",
        "        self._state_size = environment.observation_space.n\n",
        "        self._action_size = environment.action_space.n\n",
        "        self._optimizer = optimizer\n",
        "        \n",
        "        self.experience_replay = deque(maxlen=2000)\n",
        "        \n",
        "        # Initialize discount and exploration rate\n",
        "        self.epsilon = 0.1 # epsilon greedy random action rate\n",
        "        self.gamma = 0.6 # discount factor\n",
        "        \n",
        "        # Build networks\n",
        "        self.q_network = self._build_compile_model()\n",
        "        self.target_network = self._build_compile_model()\n",
        "        self.align_target_model()\n",
        "\n",
        "    def store(self, state, action, reward, next_state, terminated):\n",
        "        self.experience_replay.append((state, action, reward, next_state, terminated))\n",
        "    \n",
        "    def _build_compile_model(self):\n",
        "        model = Sequential()\n",
        "        model.add(Embedding(self._state_size, self._state_size, input_length=1))\n",
        "        model.add(Reshape((self._state_size,)))\n",
        "        model.add(Dense(50, activation='relu'))\n",
        "        model.add(Dense(50, activation='relu'))\n",
        "        model.add(Dense(self._action_size, activation='linear'))\n",
        "        \n",
        "        model.compile(loss='mse', optimizer=self._optimizer)\n",
        "        return model\n",
        "\n",
        "    def align_target_model(self):\n",
        "        self.target_network.set_weights(self.q_network.get_weights())\n",
        "    \n",
        "    def act(self, state):\n",
        "        if np.random.rand() <= self.epsilon:\n",
        "            return environment.action_space.sample()\n",
        "        \n",
        "        q_values = self.q_network.predict(state)\n",
        "        return np.argmax(q_values[0])\n",
        "\n",
        "    def retrain(self, batch_size):\n",
        "        minibatch = random.sample(self.experience_replay, batch_size)\n",
        "        \n",
        "        for state, action, reward, next_state, terminated in minibatch:\n",
        "            \n",
        "            target = self.q_network.predict(state)\n",
        "            \n",
        "            if terminated:\n",
        "                target[0][action] = reward\n",
        "            else:\n",
        "                t = self.target_network.predict(next_state)\n",
        "                target[0][action] = reward + self.gamma * np.amax(t)\n",
        "            \n",
        "            self.q_network.fit(state, target, epochs=1, verbose=0)"
      ],
      "execution_count": null,
      "outputs": []
    },
    {
      "cell_type": "code",
      "metadata": {
        "id": "1afubRp2RAm9",
        "outputId": "855cf35a-83e9-4615-e1bd-faf1be84fce8",
        "colab": {
          "base_uri": "https://localhost:8080/"
        }
      },
      "source": [
        "optimizer = Adam(learning_rate=0.01)\n",
        "agent = Agent(environment, optimizer)\n",
        "\n",
        "batch_size = 32\n",
        "num_of_episodes = 15 #10\n",
        "timesteps_per_episode = 1000 #1000\n",
        "agent.q_network.summary()"
      ],
      "execution_count": null,
      "outputs": [
        {
          "output_type": "stream",
          "text": [
            "Model: \"sequential\"\n",
            "_________________________________________________________________\n",
            "Layer (type)                 Output Shape              Param #   \n",
            "=================================================================\n",
            "embedding (Embedding)        (None, 1, 48)             2304      \n",
            "_________________________________________________________________\n",
            "reshape (Reshape)            (None, 48)                0         \n",
            "_________________________________________________________________\n",
            "dense (Dense)                (None, 50)                2450      \n",
            "_________________________________________________________________\n",
            "dense_1 (Dense)              (None, 50)                2550      \n",
            "_________________________________________________________________\n",
            "dense_2 (Dense)              (None, 4)                 204       \n",
            "=================================================================\n",
            "Total params: 7,508\n",
            "Trainable params: 7,508\n",
            "Non-trainable params: 0\n",
            "_________________________________________________________________\n"
          ],
          "name": "stdout"
        }
      ]
    },
    {
      "cell_type": "code",
      "metadata": {
        "id": "TuJsXMlLRAnB",
        "outputId": "056f701c-597f-4fb4-fa0a-f4e3b13e9394",
        "colab": {
          "base_uri": "https://localhost:8080/"
        }
      },
      "source": [
        "for e in range(0, num_of_episodes):\n",
        "    # Reset the enviroment\n",
        "    state = environment.reset()\n",
        "    state = np.reshape(state, [1, 1])\n",
        "    \n",
        "    # Initialize variables\n",
        "    reward = 0\n",
        "    terminated = False\n",
        "    \n",
        "    bar = progressbar.ProgressBar(maxval=timesteps_per_episode/10, widgets=[progressbar.Bar('=', '[', ']'), ' ', progressbar.Percentage()])\n",
        "    bar.start()\n",
        "    \n",
        "    for timestep in range(timesteps_per_episode):\n",
        "        # Run Action\n",
        "        action = agent.act(state)\n",
        "        #print(f\"Chosen action: {action}\")\n",
        "        \n",
        "        # Take action    \n",
        "        next_state, reward, terminated, info = environment.step(action) \n",
        "        next_state = np.reshape(next_state, [1, 1])\n",
        "        \n",
        "        # if the state would remain the same change reward to -1000\n",
        "        if state == next_state:\n",
        "            reward = -300\n",
        "        \n",
        "        agent.store(state, action, reward, next_state, terminated)\n",
        "        \n",
        "        state = next_state\n",
        "        \n",
        "        if terminated:\n",
        "            agent.align_target_model()\n",
        "            break\n",
        "            \n",
        "        if len(agent.experience_replay) > batch_size:\n",
        "            agent.retrain(batch_size)\n",
        "        \n",
        "        if timestep%10 == 0:\n",
        "            bar.update(timestep/10 + 1)\n",
        "            \n",
        "        #print(f\"State: {next_state}\\tReward: {reward}\\tTerm: {terminated}\\tInfo: {info}\\t\")\n",
        "    \n",
        "    bar.finish()\n",
        "    if (e + 1) % 10 == 0:\n",
        "        print(\"**********************************\")\n",
        "        print(f\"Episode: {e + 1}\")\n",
        "        environment.render()\n",
        "        print(\"**********************************\")"
      ],
      "execution_count": null,
      "outputs": [
        {
          "output_type": "stream",
          "text": [
            "[========================================================================] 100%\n",
            "[========================================================================] 100%\n",
            "[========================================================================] 100%\n",
            "[========================================================================] 100%\n",
            "[========================================================================] 100%\n",
            "[========================================================================] 100%\n",
            "[========================================================================] 100%\n",
            "[========================================================================] 100%\n",
            "[========================================================================] 100%\n",
            "[========================================================================] 100%\n",
            "[                                                                        ] N/A%"
          ],
          "name": "stderr"
        },
        {
          "output_type": "stream",
          "text": [
            "**********************************\n",
            "Episode: 10\n",
            "o  o  o  o  o  o  o  o  o  o  o  o\n",
            "o  o  o  o  o  o  o  o  o  o  o  o\n",
            "o  o  o  o  o  o  o  o  o  o  o  o\n",
            "o  C  C  C  C  C  C  C  C  C  C  x\n",
            "\n",
            "**********************************\n"
          ],
          "name": "stdout"
        },
        {
          "output_type": "stream",
          "text": [
            "[========================================================================] 100%\n",
            "[========================================================================] 100%\n",
            "[========================================================================] 100%\n",
            "[========================================================================] 100%\n",
            "[========================================================================] 100%\n"
          ],
          "name": "stderr"
        }
      ]
    },
    {
      "cell_type": "code",
      "metadata": {
        "id": "sAcHX4BxRAnE",
        "outputId": "7182759d-241f-4023-d8b1-635e9173bc78",
        "colab": {
          "base_uri": "https://localhost:8080/"
        }
      },
      "source": [
        "total_epochs = 0\n",
        "total_penalties = 0\n",
        "episode_num = 0\n",
        "num_of_episodes = 100\n",
        "wall_pushes = 0\n",
        "\n",
        "bar = progressbar.ProgressBar(maxval=num_of_episodes, widgets=['Completion: ', progressbar.Bar('=', '[', ']'), ' ', progressbar.Percentage(), '\\t', progressbar.ETA()])\n",
        "bar.start()\n",
        "    \n",
        "for _ in range(num_of_episodes):\n",
        "    state = environment.reset()\n",
        "    next_state = 0\n",
        "    epochs = 0\n",
        "    penalties = 0\n",
        "    reward = 0\n",
        "    \n",
        "    terminated = False\n",
        "    \n",
        "    while not terminated:\n",
        "        state = np.reshape(state, [1, 1])\n",
        "        action = agent.act(state)\n",
        "        next_state, reward, terminated, info = environment.step(action)\n",
        "        \n",
        "        # if the state is the same change reward\n",
        "        if state == next_state:\n",
        "            wall_pushes += 1\n",
        "\n",
        "        if reward == -100:\n",
        "            penalties += 1\n",
        "\n",
        "        epochs += 1\n",
        "        \n",
        "        state = next_state\n",
        "        \n",
        "        if epochs%100 == 0:\n",
        "            #print(f\"Episode: {episode_num}\\tState: {state}\\tReward: {reward}\\tTerm: {terminated}\\tInfo: {info}\\t\")\n",
        "            pass\n",
        "\n",
        "    total_penalties += penalties\n",
        "    total_epochs += epochs\n",
        "    episode_num += 1\n",
        "    bar.update(episode_num)\n",
        "    \n",
        "bar.finish()\n",
        "\n",
        "print(\n",
        "    \"**********************************\\n\"\n",
        "    \"Results\\n\"\n",
        "    \"**********************************\\n\"\n",
        ")\n",
        "print(f\"Epochs per episode: {total_epochs / num_of_episodes}\")\n",
        "print(f\"Penalties per episode: {total_penalties / num_of_episodes}\")\n",
        "print(f\"Wall pushes per episode: {wall_pushes / num_of_episodes}\")"
      ],
      "execution_count": null,
      "outputs": [
        {
          "output_type": "stream",
          "text": [
            "Completion: [=============================================] 100%\tTime:  0:02:25\n"
          ],
          "name": "stderr"
        },
        {
          "output_type": "stream",
          "text": [
            "**********************************\n",
            "Results\n",
            "**********************************\n",
            "\n",
            "Epochs per episode: 44.04\n",
            "Penalties per episode: 0.37\n",
            "Wall pushes per episode: 1.08\n"
          ],
          "name": "stdout"
        }
      ]
    }
  ]
}